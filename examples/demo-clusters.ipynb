{
 "metadata": {
  "name": ""
 },
 "nbformat": 3,
 "nbformat_minor": 0,
 "worksheets": [
  {
   "cells": [
    {
     "cell_type": "markdown",
     "metadata": {},
     "source": [
      "This is equivalent to `demo-classes.sh` from Google."
     ]
    },
    {
     "cell_type": "heading",
     "level": 2,
     "metadata": {},
     "source": [
      "Download and unzip data"
     ]
    },
    {
     "cell_type": "code",
     "collapsed": false,
     "input": [
      "!wget http://mattmahoney.net/dc/text8.zip -O text8.gz"
     ],
     "language": "python",
     "metadata": {},
     "outputs": [
      {
       "output_type": "stream",
       "stream": "stdout",
       "text": [
        "--2013-09-07 12:35:42--  http://mattmahoney.net/dc/text8.zip\r\n",
        "Resolving mattmahoney.net... "
       ]
      },
      {
       "output_type": "stream",
       "stream": "stdout",
       "text": [
        "98.139.135.22, 98.139.135.21\r\n",
        "Connecting to mattmahoney.net|98.139.135.22|:80... "
       ]
      },
      {
       "output_type": "stream",
       "stream": "stdout",
       "text": [
        "connected.\r\n",
        "HTTP request sent, awaiting response... "
       ]
      },
      {
       "output_type": "stream",
       "stream": "stdout",
       "text": [
        "200 OK\r\n",
        "Length: unspecified [application/zip]\r\n",
        "Saving to: \u2018text8.gz\u2019\r\n",
        "\r\n",
        "\r",
        "    [<=>                                    ] 0           --.-K/s              "
       ]
      },
      {
       "output_type": "stream",
       "stream": "stdout",
       "text": [
        "\r",
        "    [ <=>                                   ] 15,264      70.1KB/s             "
       ]
      },
      {
       "output_type": "stream",
       "stream": "stdout",
       "text": [
        "\r",
        "    [  <=>                                  ] 54,888       127KB/s             "
       ]
      },
      {
       "output_type": "stream",
       "stream": "stdout",
       "text": [
        "\r",
        "    [   <=>                                 ] 123,316      189KB/s             "
       ]
      },
      {
       "output_type": "stream",
       "stream": "stdout",
       "text": [
        "\r",
        "    [    <=>                                ] 233,912      265KB/s             "
       ]
      },
      {
       "output_type": "stream",
       "stream": "stdout",
       "text": [
        "\r",
        "    [     <=>                               ] 402,128      366KB/s             "
       ]
      },
      {
       "output_type": "stream",
       "stream": "stdout",
       "text": [
        "\r",
        "    [      <=>                              ] 611,840      469KB/s             "
       ]
      },
      {
       "output_type": "stream",
       "stream": "stdout",
       "text": [
        "\r",
        "    [       <=>                             ] 840,960      554KB/s             "
       ]
      },
      {
       "output_type": "stream",
       "stream": "stdout",
       "text": [
        "\r",
        "    [        <=>                            ] 1,066,240    617KB/s             "
       ]
      },
      {
       "output_type": "stream",
       "stream": "stdout",
       "text": [
        "\r",
        "    [         <=>                           ] 1,283,328    663KB/s             "
       ]
      },
      {
       "output_type": "stream",
       "stream": "stdout",
       "text": [
        "\r",
        "    [          <=>                          ] 1,516,116    706KB/s             "
       ]
      },
      {
       "output_type": "stream",
       "stream": "stdout",
       "text": [
        "\r",
        "    [           <=>                         ] 1,737,984    737KB/s             "
       ]
      },
      {
       "output_type": "stream",
       "stream": "stdout",
       "text": [
        "\r",
        "    [            <=>                        ] 1,964,916    765KB/s             "
       ]
      },
      {
       "output_type": "stream",
       "stream": "stdout",
       "text": [
        "\r",
        "    [             <=>                       ] 2,184,448    787KB/s             "
       ]
      },
      {
       "output_type": "stream",
       "stream": "stdout",
       "text": [
        "\r",
        "    [              <=>                      ] 2,409,728    806KB/s             "
       ]
      },
      {
       "output_type": "stream",
       "stream": "stdout",
       "text": [
        "\r",
        "    [               <=>                     ] 2,630,840    823KB/s             "
       ]
      },
      {
       "output_type": "stream",
       "stream": "stdout",
       "text": [
        "\r",
        "    [                <=>                    ] 2,856,192    839KB/s             "
       ]
      },
      {
       "output_type": "stream",
       "stream": "stdout",
       "text": [
        "\r",
        "    [                 <=>                   ] 3,077,376    950KB/s             "
       ]
      },
      {
       "output_type": "stream",
       "stream": "stdout",
       "text": [
        "\r",
        "    [                  <=>                  ] 3,298,560    988KB/s             "
       ]
      },
      {
       "output_type": "stream",
       "stream": "stdout",
       "text": [
        "\r",
        "    [                   <=>                 ] 3,527,936   1021KB/s             "
       ]
      },
      {
       "output_type": "stream",
       "stream": "stdout",
       "text": [
        "\r",
        "    [                    <=>                ] 3,745,024   1.04MB/s             "
       ]
      },
      {
       "output_type": "stream",
       "stream": "stdout",
       "text": [
        "\r",
        "    [                     <=>               ] 3,974,400   1.04MB/s             "
       ]
      },
      {
       "output_type": "stream",
       "stream": "stdout",
       "text": [
        "\r",
        "    [                      <=>              ] 4,191,488   1.04MB/s             "
       ]
      },
      {
       "output_type": "stream",
       "stream": "stdout",
       "text": [
        "\r",
        "    [                       <=>             ] 4,416,768   1.04MB/s             "
       ]
      },
      {
       "output_type": "stream",
       "stream": "stdout",
       "text": [
        "\r",
        "    [                        <=>            ] 4,646,144   1.04MB/s             "
       ]
      },
      {
       "output_type": "stream",
       "stream": "stdout",
       "text": [
        "\r",
        "    [                         <=>           ] 4,863,232   1.04MB/s             "
       ]
      },
      {
       "output_type": "stream",
       "stream": "stdout",
       "text": [
        "\r",
        "    [                          <=>          ] 5,092,608   1.04MB/s             "
       ]
      },
      {
       "output_type": "stream",
       "stream": "stdout",
       "text": [
        "\r",
        "    [                           <=>         ] 5,244,160   1.02MB/s             "
       ]
      },
      {
       "output_type": "stream",
       "stream": "stdout",
       "text": [
        "\r",
        "    [                            <=>        ] 5,543,168   1.04MB/s             "
       ]
      },
      {
       "output_type": "stream",
       "stream": "stdout",
       "text": [
        "\r",
        "    [                             <=>       ] 5,756,160   1.04MB/s             "
       ]
      },
      {
       "output_type": "stream",
       "stream": "stdout",
       "text": [
        "\r",
        "    [                              <=>      ] 5,985,536   1.05MB/s             "
       ]
      },
      {
       "output_type": "stream",
       "stream": "stdout",
       "text": [
        "\r",
        "    [                               <=>     ] 6,210,816   1.04MB/s             "
       ]
      },
      {
       "output_type": "stream",
       "stream": "stdout",
       "text": [
        "\r",
        "    [                                <=>    ] 6,444,199   1.05MB/s             "
       ]
      },
      {
       "output_type": "stream",
       "stream": "stdout",
       "text": [
        "\r",
        "    [                                 <=>   ] 6,665,472   1.05MB/s             "
       ]
      },
      {
       "output_type": "stream",
       "stream": "stdout",
       "text": [
        "\r",
        "    [                                  <=>  ] 6,886,656   1.05MB/s             "
       ]
      },
      {
       "output_type": "stream",
       "stream": "stdout",
       "text": [
        "\r",
        "    [                                   <=> ] 7,107,840   1.04MB/s             "
       ]
      },
      {
       "output_type": "stream",
       "stream": "stdout",
       "text": [
        "\r",
        "    [                                    <=>] 7,333,120   1.05MB/s             "
       ]
      },
      {
       "output_type": "stream",
       "stream": "stdout",
       "text": [
        "\r",
        "    [                                   <=> ] 7,553,091   1.05MB/s             "
       ]
      },
      {
       "output_type": "stream",
       "stream": "stdout",
       "text": [
        "\r",
        "    [                                  <=>  ] 7,779,584   1.05MB/s             "
       ]
      },
      {
       "output_type": "stream",
       "stream": "stdout",
       "text": [
        "\r",
        "    [                                 <=>   ] 7,996,672   1.05MB/s             "
       ]
      },
      {
       "output_type": "stream",
       "stream": "stdout",
       "text": [
        "\r",
        "    [                                <=>    ] 8,221,952   1.04MB/s             "
       ]
      },
      {
       "output_type": "stream",
       "stream": "stdout",
       "text": [
        "\r",
        "    [                               <=>     ] 8,447,232   1.05MB/s             "
       ]
      },
      {
       "output_type": "stream",
       "stream": "stdout",
       "text": [
        "\r",
        "    [                              <=>      ] 8,672,512   1.04MB/s             "
       ]
      },
      {
       "output_type": "stream",
       "stream": "stdout",
       "text": [
        "\r",
        "    [                             <=>       ] 8,897,792   1.04MB/s             "
       ]
      },
      {
       "output_type": "stream",
       "stream": "stdout",
       "text": [
        "\r",
        "    [                            <=>        ] 9,120,987   1.04MB/s             "
       ]
      },
      {
       "output_type": "stream",
       "stream": "stdout",
       "text": [
        "\r",
        "    [                           <=>         ] 9,348,352   1.04MB/s             "
       ]
      },
      {
       "output_type": "stream",
       "stream": "stdout",
       "text": [
        "\r",
        "    [                          <=>          ] 9,577,728   1.04MB/s             "
       ]
      },
      {
       "output_type": "stream",
       "stream": "stdout",
       "text": [
        "\r",
        "    [                         <=>           ] 9,798,912   1.04MB/s             "
       ]
      },
      {
       "output_type": "stream",
       "stream": "stdout",
       "text": [
        "\r",
        "    [                        <=>            ] 10,028,288  1.04MB/s             "
       ]
      },
      {
       "output_type": "stream",
       "stream": "stdout",
       "text": [
        "\r",
        "    [                       <=>             ] 10,253,568  1.04MB/s             "
       ]
      },
      {
       "output_type": "stream",
       "stream": "stdout",
       "text": [
        "\r",
        "    [                      <=>              ] 10,482,944  1.04MB/s             "
       ]
      },
      {
       "output_type": "stream",
       "stream": "stdout",
       "text": [
        "\r",
        "    [                     <=>               ] 10,695,936  1.04MB/s             "
       ]
      },
      {
       "output_type": "stream",
       "stream": "stdout",
       "text": [
        "\r",
        "    [                    <=>                ] 10,921,216  1.04MB/s             "
       ]
      },
      {
       "output_type": "stream",
       "stream": "stdout",
       "text": [
        "\r",
        "    [                   <=>                 ] 11,146,496  1.04MB/s             "
       ]
      },
      {
       "output_type": "stream",
       "stream": "stdout",
       "text": [
        "\r",
        "    [                  <=>                  ] 11,363,584  1.04MB/s             "
       ]
      },
      {
       "output_type": "stream",
       "stream": "stdout",
       "text": [
        "\r",
        "    [                 <=>                   ] 11,588,864  1.05MB/s             "
       ]
      },
      {
       "output_type": "stream",
       "stream": "stdout",
       "text": [
        "\r",
        "    [                <=>                    ] 11,793,664  1.04MB/s             "
       ]
      },
      {
       "output_type": "stream",
       "stream": "stdout",
       "text": [
        "\r",
        "    [               <=>                     ] 11,990,272  1.03MB/s             "
       ]
      },
      {
       "output_type": "stream",
       "stream": "stdout",
       "text": [
        "\r",
        "    [              <=>                      ] 12,189,755  1.02MB/s             "
       ]
      },
      {
       "output_type": "stream",
       "stream": "stdout",
       "text": [
        "\r",
        "    [             <=>                       ] 12,367,104  1.01MB/s             "
       ]
      },
      {
       "output_type": "stream",
       "stream": "stdout",
       "text": [
        "\r",
        "    [            <=>                        ] 12,555,520  1024KB/s             "
       ]
      },
      {
       "output_type": "stream",
       "stream": "stdout",
       "text": [
        "\r",
        "    [           <=>                         ] 12,731,648  1007KB/s             "
       ]
      },
      {
       "output_type": "stream",
       "stream": "stdout",
       "text": [
        "\r",
        "    [          <=>                          ] 12,883,200   987KB/s             "
       ]
      },
      {
       "output_type": "stream",
       "stream": "stdout",
       "text": [
        "\r",
        "    [         <=>                           ] 13,018,368   957KB/s             "
       ]
      },
      {
       "output_type": "stream",
       "stream": "stdout",
       "text": [
        "\r",
        "    [        <=>                            ] 13,210,880   926KB/s             "
       ]
      },
      {
       "output_type": "stream",
       "stream": "stdout",
       "text": [
        "\r",
        "    [       <=>                             ] 13,403,392   886KB/s             "
       ]
      },
      {
       "output_type": "stream",
       "stream": "stdout",
       "text": [
        "\r",
        "    [      <=>                              ] 13,595,904   840KB/s             "
       ]
      },
      {
       "output_type": "stream",
       "stream": "stdout",
       "text": [
        "\r",
        "    [     <=>                               ] 13,788,416   822KB/s             "
       ]
      },
      {
       "output_type": "stream",
       "stream": "stdout",
       "text": [
        "\r",
        "    [    <=>                                ] 14,013,696   828KB/s             "
       ]
      },
      {
       "output_type": "stream",
       "stream": "stdout",
       "text": [
        "\r",
        "    [   <=>                                 ] 14,116,096   784KB/s             "
       ]
      },
      {
       "output_type": "stream",
       "stream": "stdout",
       "text": [
        "\r",
        "    [  <=>                                  ] 14,274,943   770KB/s             "
       ]
      },
      {
       "output_type": "stream",
       "stream": "stdout",
       "text": [
        "\r",
        "    [ <=>                                   ] 14,365,287   733KB/s             "
       ]
      },
      {
       "output_type": "stream",
       "stream": "stdout",
       "text": [
        "\r",
        "    [<=>                                    ] 14,521,600   719KB/s             "
       ]
      },
      {
       "output_type": "stream",
       "stream": "stdout",
       "text": [
        "\r",
        "    [ <=>                                   ] 14,620,283   686KB/s             "
       ]
      },
      {
       "output_type": "stream",
       "stream": "stdout",
       "text": [
        "\r",
        "    [  <=>                                  ] 14,750,976   673KB/s             "
       ]
      },
      {
       "output_type": "stream",
       "stream": "stdout",
       "text": [
        "\r",
        "    [   <=>                                 ] 14,849,280   649KB/s             "
       ]
      },
      {
       "output_type": "stream",
       "stream": "stdout",
       "text": [
        "\r",
        "    [    <=>                                ] 14,992,640   633KB/s             "
       ]
      },
      {
       "output_type": "stream",
       "stream": "stdout",
       "text": [
        "\r",
        "    [     <=>                               ] 15,140,487   641KB/s             "
       ]
      },
      {
       "output_type": "stream",
       "stream": "stdout",
       "text": [
        "\r",
        "    [      <=>                              ] 15,327,007   607KB/s             "
       ]
      },
      {
       "output_type": "stream",
       "stream": "stdout",
       "text": [
        "\r",
        "    [       <=>                             ] 15,519,351   588KB/s             "
       ]
      },
      {
       "output_type": "stream",
       "stream": "stdout",
       "text": [
        "\r",
        "    [        <=>                            ] 15,711,695   615KB/s             "
       ]
      },
      {
       "output_type": "stream",
       "stream": "stdout",
       "text": [
        "\r",
        "    [         <=>                           ] 15,774,976   602KB/s             "
       ]
      },
      {
       "output_type": "stream",
       "stream": "stdout",
       "text": [
        "\r",
        "    [          <=>                          ] 15,918,336   587KB/s             "
       ]
      },
      {
       "output_type": "stream",
       "stream": "stdout",
       "text": [
        "\r",
        "    [           <=>                         ] 16,030,811   587KB/s             "
       ]
      },
      {
       "output_type": "stream",
       "stream": "stdout",
       "text": [
        "\r",
        "    [            <=>                        ] 16,225,536   550KB/s             "
       ]
      },
      {
       "output_type": "stream",
       "stream": "stdout",
       "text": [
        "\r",
        "    [             <=>                       ] 16,418,048   549KB/s             "
       ]
      },
      {
       "output_type": "stream",
       "stream": "stdout",
       "text": [
        "\r",
        "    [              <=>                      ] 16,551,015   546KB/s             "
       ]
      },
      {
       "output_type": "stream",
       "stream": "stdout",
       "text": [
        "\r",
        "    [               <=>                     ] 16,610,560   540KB/s             "
       ]
      },
      {
       "output_type": "stream",
       "stream": "stdout",
       "text": [
        "\r",
        "    [                <=>                    ] 16,737,536   535KB/s             "
       ]
      },
      {
       "output_type": "stream",
       "stream": "stdout",
       "text": [
        "\r",
        "    [                 <=>                   ] 16,903,647   554KB/s             "
       ]
      },
      {
       "output_type": "stream",
       "stream": "stdout",
       "text": [
        "\r",
        "    [                  <=>                  ] 17,085,696   563KB/s             "
       ]
      },
      {
       "output_type": "stream",
       "stream": "stdout",
       "text": [
        "\r",
        "    [                   <=>                 ] 17,122,560   529KB/s             "
       ]
      },
      {
       "output_type": "stream",
       "stream": "stdout",
       "text": [
        "\r",
        "    [                    <=>                ] 17,314,567   517KB/s             "
       ]
      },
      {
       "output_type": "stream",
       "stream": "stdout",
       "text": [
        "\r",
        "    [                     <=>               ] 17,507,584   518KB/s             "
       ]
      },
      {
       "output_type": "stream",
       "stream": "stdout",
       "text": [
        "\r",
        "    [                      <=>              ] 17,675,520   512KB/s             "
       ]
      },
      {
       "output_type": "stream",
       "stream": "stdout",
       "text": [
        "\r",
        "    [                       <=>             ] 17,892,608   546KB/s             "
       ]
      },
      {
       "output_type": "stream",
       "stream": "stdout",
       "text": [
        "\r",
        "    [                        <=>            ] 18,120,371   575KB/s             "
       ]
      },
      {
       "output_type": "stream",
       "stream": "stdout",
       "text": [
        "\r",
        "    [                         <=>           ] 18,347,264   582KB/s             "
       ]
      },
      {
       "output_type": "stream",
       "stream": "stdout",
       "text": [
        "\r",
        "    [                          <=>          ] 18,576,640   625KB/s             "
       ]
      },
      {
       "output_type": "stream",
       "stream": "stdout",
       "text": [
        "\r",
        "    [                           <=>         ] 18,793,728   652KB/s             "
       ]
      },
      {
       "output_type": "stream",
       "stream": "stdout",
       "text": [
        "\r",
        "    [                            <=>        ] 19,027,200   658KB/s             "
       ]
      },
      {
       "output_type": "stream",
       "stream": "stdout",
       "text": [
        "\r",
        "    [                             <=>       ] 19,252,480   717KB/s             "
       ]
      },
      {
       "output_type": "stream",
       "stream": "stdout",
       "text": [
        "\r",
        "    [                              <=>      ] 19,477,760   746KB/s             "
       ]
      },
      {
       "output_type": "stream",
       "stream": "stdout",
       "text": [
        "\r",
        "    [                               <=>     ] 19,703,040   796KB/s             "
       ]
      },
      {
       "output_type": "stream",
       "stream": "stdout",
       "text": [
        "\r",
        "    [                                <=>    ] 19,924,224   823KB/s             "
       ]
      },
      {
       "output_type": "stream",
       "stream": "stdout",
       "text": [
        "\r",
        "    [                                 <=>   ] 20,153,600   844KB/s             "
       ]
      },
      {
       "output_type": "stream",
       "stream": "stdout",
       "text": [
        "\r",
        "    [                                  <=>  ] 20,382,976   847KB/s             "
       ]
      },
      {
       "output_type": "stream",
       "stream": "stdout",
       "text": [
        "\r",
        "    [                                   <=> ] 20,608,256   940KB/s             "
       ]
      },
      {
       "output_type": "stream",
       "stream": "stdout",
       "text": [
        "\r",
        "    [                                    <=>] 20,833,536  1006KB/s             "
       ]
      },
      {
       "output_type": "stream",
       "stream": "stdout",
       "text": [
        "\r",
        "    [                                   <=> ] 21,065,211  1.04MB/s             "
       ]
      },
      {
       "output_type": "stream",
       "stream": "stdout",
       "text": [
        "\r",
        "    [                                  <=>  ] 21,288,192  1.04MB/s             "
       ]
      },
      {
       "output_type": "stream",
       "stream": "stdout",
       "text": [
        "\r",
        "    [                                 <=>   ] 21,515,471  1.04MB/s             "
       ]
      },
      {
       "output_type": "stream",
       "stream": "stdout",
       "text": [
        "\r",
        "    [                                <=>    ] 21,734,047  1.04MB/s             "
       ]
      },
      {
       "output_type": "stream",
       "stream": "stdout",
       "text": [
        "\r",
        "    [                               <=>     ] 21,955,535  1.04MB/s             "
       ]
      },
      {
       "output_type": "stream",
       "stream": "stdout",
       "text": [
        "\r",
        "    [                              <=>      ] 22,181,120  1.04MB/s             "
       ]
      },
      {
       "output_type": "stream",
       "stream": "stdout",
       "text": [
        "\r",
        "    [                             <=>       ] 22,406,400  1.04MB/s             "
       ]
      },
      {
       "output_type": "stream",
       "stream": "stdout",
       "text": [
        "\r",
        "    [                            <=>        ] 22,631,655  1.04MB/s             "
       ]
      },
      {
       "output_type": "stream",
       "stream": "stdout",
       "text": [
        "\r",
        "    [                           <=>         ] 22,860,427  1.05MB/s             "
       ]
      },
      {
       "output_type": "stream",
       "stream": "stdout",
       "text": [
        "\r",
        "    [                          <=>          ] 23,078,144  1.04MB/s             "
       ]
      },
      {
       "output_type": "stream",
       "stream": "stdout",
       "text": [
        "\r",
        "    [                         <=>           ] 23,303,424  1.04MB/s             "
       ]
      },
      {
       "output_type": "stream",
       "stream": "stdout",
       "text": [
        "\r",
        "    [                        <=>            ] 23,469,515  1007KB/s             "
       ]
      },
      {
       "output_type": "stream",
       "stream": "stdout",
       "text": [
        "\r",
        "    [                       <=>             ] 23,729,408  1018KB/s             "
       ]
      },
      {
       "output_type": "stream",
       "stream": "stdout",
       "text": [
        "\r",
        "    [                      <=>              ] 23,749,888   965KB/s             "
       ]
      },
      {
       "output_type": "stream",
       "stream": "stdout",
       "text": [
        "\r",
        "    [                     <=>               ] 23,781,347   895KB/s             "
       ]
      },
      {
       "output_type": "stream",
       "stream": "stdout",
       "text": [
        "\r",
        "    [                    <=>                ] 23,844,007   847KB/s             "
       ]
      },
      {
       "output_type": "stream",
       "stream": "stdout",
       "text": [
        "\r",
        "    [                   <=>                 ] 23,938,304   805KB/s             "
       ]
      },
      {
       "output_type": "stream",
       "stream": "stdout",
       "text": [
        "\r",
        "    [                  <=>                  ] 24,088,807   789KB/s             "
       ]
      },
      {
       "output_type": "stream",
       "stream": "stdout",
       "text": [
        "\r",
        "    [                 <=>                   ] 24,259,291   766KB/s             "
       ]
      },
      {
       "output_type": "stream",
       "stream": "stdout",
       "text": [
        "\r",
        "    [                <=>                    ] 24,487,168   774KB/s             "
       ]
      },
      {
       "output_type": "stream",
       "stream": "stdout",
       "text": [
        "\r",
        "    [               <=>                     ] 24,708,352   762KB/s             "
       ]
      },
      {
       "output_type": "stream",
       "stream": "stdout",
       "text": [
        "\r",
        "    [              <=>                      ] 24,941,824   767KB/s             "
       ]
      },
      {
       "output_type": "stream",
       "stream": "stdout",
       "text": [
        "\r",
        "    [             <=>                       ] 25,167,104   769KB/s             "
       ]
      },
      {
       "output_type": "stream",
       "stream": "stdout",
       "text": [
        "\r",
        "    [            <=>                        ] 25,400,576   764KB/s             "
       ]
      },
      {
       "output_type": "stream",
       "stream": "stdout",
       "text": [
        "\r",
        "    [           <=>                         ] 25,625,856   771KB/s             "
       ]
      },
      {
       "output_type": "stream",
       "stream": "stdout",
       "text": [
        "\r",
        "    [          <=>                          ] 25,847,040   773KB/s             "
       ]
      },
      {
       "output_type": "stream",
       "stream": "stdout",
       "text": [
        "\r",
        "    [         <=>                           ] 26,076,367   768KB/s             "
       ]
      },
      {
       "output_type": "stream",
       "stream": "stdout",
       "text": [
        "\r",
        "    [        <=>                            ] 26,277,120   814KB/s             "
       ]
      },
      {
       "output_type": "stream",
       "stream": "stdout",
       "text": [
        "\r",
        "    [       <=>                             ] 26,518,784   810KB/s             "
       ]
      },
      {
       "output_type": "stream",
       "stream": "stdout",
       "text": [
        "\r",
        "    [      <=>                              ] 26,744,064   909KB/s             "
       ]
      },
      {
       "output_type": "stream",
       "stream": "stdout",
       "text": [
        "\r",
        "    [     <=>                               ] 26,969,344   964KB/s             "
       ]
      },
      {
       "output_type": "stream",
       "stream": "stdout",
       "text": [
        "\r",
        "    [    <=>                                ] 27,198,720  1003KB/s             "
       ]
      },
      {
       "output_type": "stream",
       "stream": "stdout",
       "text": [
        "\r",
        "    [   <=>                                 ] 27,428,096  1.03MB/s             "
       ]
      },
      {
       "output_type": "stream",
       "stream": "stdout",
       "text": [
        "\r",
        "    [  <=>                                  ] 27,653,376  1.04MB/s             "
       ]
      },
      {
       "output_type": "stream",
       "stream": "stdout",
       "text": [
        "\r",
        "    [ <=>                                   ] 27,878,656  1.04MB/s             "
       ]
      },
      {
       "output_type": "stream",
       "stream": "stdout",
       "text": [
        "\r",
        "    [<=>                                    ] 28,103,936  1.04MB/s             "
       ]
      },
      {
       "output_type": "stream",
       "stream": "stdout",
       "text": [
        "\r",
        "    [ <=>                                   ] 28,329,127  1.04MB/s             "
       ]
      },
      {
       "output_type": "stream",
       "stream": "stdout",
       "text": [
        "\r",
        "    [  <=>                                  ] 28,558,592  1.04MB/s             "
       ]
      },
      {
       "output_type": "stream",
       "stream": "stdout",
       "text": [
        "\r",
        "    [   <=>                                 ] 28,779,776  1.04MB/s             "
       ]
      },
      {
       "output_type": "stream",
       "stream": "stdout",
       "text": [
        "\r",
        "    [    <=>                                ] 29,005,056  1.04MB/s             "
       ]
      },
      {
       "output_type": "stream",
       "stream": "stdout",
       "text": [
        "\r",
        "    [     <=>                               ] 29,230,336  1.04MB/s             "
       ]
      },
      {
       "output_type": "stream",
       "stream": "stdout",
       "text": [
        "\r",
        "    [      <=>                              ] 29,455,616  1.04MB/s             "
       ]
      },
      {
       "output_type": "stream",
       "stream": "stdout",
       "text": [
        "\r",
        "    [       <=>                             ] 29,680,896  1.04MB/s             "
       ]
      },
      {
       "output_type": "stream",
       "stream": "stdout",
       "text": [
        "\r",
        "    [        <=>                            ] 29,906,176  1.04MB/s             "
       ]
      },
      {
       "output_type": "stream",
       "stream": "stdout",
       "text": [
        "\r",
        "    [         <=>                           ] 30,122,883  1.04MB/s             "
       ]
      },
      {
       "output_type": "stream",
       "stream": "stdout",
       "text": [
        "\r",
        "    [          <=>                          ] 30,352,640  1.04MB/s             "
       ]
      },
      {
       "output_type": "stream",
       "stream": "stdout",
       "text": [
        "\r",
        "    [           <=>                         ] 30,573,824  1.04MB/s             "
       ]
      },
      {
       "output_type": "stream",
       "stream": "stdout",
       "text": [
        "\r",
        "    [            <=>                        ] 30,795,008  1.04MB/s             "
       ]
      },
      {
       "output_type": "stream",
       "stream": "stdout",
       "text": [
        "\r",
        "    [             <=>                       ] 31,020,288  1.04MB/s             "
       ]
      },
      {
       "output_type": "stream",
       "stream": "stdout",
       "text": [
        "\r",
        "    [              <=>                      ] 31,245,568  1.04MB/s             "
       ]
      },
      {
       "output_type": "stream",
       "stream": "stdout",
       "text": [
        "\r",
        "    [               <=>                     ] 31,344,016  1.04MB/s   in 34s    \r\n",
        "\r\n",
        "2013-09-07 12:36:16 (890 KB/s) - \u2018text8.gz\u2019 saved [31344016]\r\n",
        "\r\n"
       ]
      }
     ],
     "prompt_number": 2
    },
    {
     "cell_type": "code",
     "collapsed": false,
     "input": [
      "!gzip -d text8.gz -f"
     ],
     "language": "python",
     "metadata": {},
     "outputs": [],
     "prompt_number": 3
    },
    {
     "cell_type": "heading",
     "level": 2,
     "metadata": {},
     "source": [
      "Training"
     ]
    },
    {
     "cell_type": "code",
     "collapsed": false,
     "input": [
      "from word2vec import word2clusters"
     ],
     "language": "python",
     "metadata": {},
     "outputs": [],
     "prompt_number": 4
    },
    {
     "cell_type": "code",
     "collapsed": false,
     "input": [
      "word2clusters('text8', 'text8.clusters', 200)"
     ],
     "language": "python",
     "metadata": {},
     "outputs": [],
     "prompt_number": 6
    },
    {
     "cell_type": "markdown",
     "metadata": {},
     "source": [
      "Note: you should be able to see progress on the command line that is running the ipython notebook"
     ]
    },
    {
     "cell_type": "markdown",
     "metadata": {},
     "source": [
      "That generated a file (`text8.clusters`) containing the word clusters."
     ]
    },
    {
     "cell_type": "code",
     "collapsed": false,
     "input": [
      "from word2vec import WordClusters"
     ],
     "language": "python",
     "metadata": {},
     "outputs": [],
     "prompt_number": 7
    },
    {
     "cell_type": "code",
     "collapsed": false,
     "input": [
      "clusters = WordClusters('text8.clusters')"
     ],
     "language": "python",
     "metadata": {},
     "outputs": [],
     "prompt_number": 8
    },
    {
     "cell_type": "code",
     "collapsed": false,
     "input": [
      "clusters.words[100:110]"
     ],
     "language": "python",
     "metadata": {},
     "outputs": [
      {
       "metadata": {},
       "output_type": "pyout",
       "prompt_number": 12,
       "text": [
        "array(['where', 'city', 'being', 'english', 'then', 'any', 'both', 'under',\n",
        "       'out', 'made'], dtype=object)"
       ]
      }
     ],
     "prompt_number": 12
    },
    {
     "cell_type": "code",
     "collapsed": false,
     "input": [
      "clusters.clusters[100:110]"
     ],
     "language": "python",
     "metadata": {},
     "outputs": [
      {
       "metadata": {},
       "output_type": "pyout",
       "prompt_number": 13,
       "text": [
        "array([ 14, 180,  14, 135,  70,  14,  79,  43, 161,   1])"
       ]
      }
     ],
     "prompt_number": 13
    },
    {
     "cell_type": "code",
     "collapsed": false,
     "input": [
      "clusters.words[clusters.clusters == 10]"
     ],
     "language": "python",
     "metadata": {},
     "outputs": [
      {
       "metadata": {},
       "output_type": "pyout",
       "prompt_number": 14,
       "text": [
        "array(['rfc', 'dec', 'kb', 'er', 'db', 'aa', 'sp', 'pm', 'cs', 'mb', 'ff',\n",
        "       'md', 'bb', 'min', 'cc', 'ml', 'gb', 'sc', 'rs', 'su', 'watt', 'hz',\n",
        "       'mc', 'ps', 'av', 'watts', 'ia', 'sec', 'dd', 'pngimage', 'kbit',\n",
        "       'xx', 'mbit', 'tt', 'vf', 'kw', 'mol', 'ev', 'nf', 'tnt', 'cmt',\n",
        "       'horsepower', 'mn', 'ghz', 'ngc', 'bn', 'cu', 'sd', 'powerbook',\n",
        "       'cen', 'dl', 'rr', 'lr', 'octaves', 'hb', 'ounce', 'bs', 'ct', 'xm',\n",
        "       'rc', 'rpm', 'sx', 'kelvin', 'hk', 'kc', 'ht', 'kj', 'vaz', 'num',\n",
        "       'oc', 'mw', 'fips', 'fn', 'mjs', 'kn', 'ls', 'altair', 'flex', 'gs',\n",
        "       'fd', 'flamsteed', 'dm', 'rx', 'bd', 'pb', 'cvn', 'volt', 'deg',\n",
        "       'bf', 'kcal', 'gmt', 'sys', 'ref', 'mev', 'gib', 'jsr', 'xxx',\n",
        "       'thunderbolt', 'xl', 'nb', 'crypto', 'conectiva', 'hc', 'hum',\n",
        "       'burner', 'increment', 'xb', 'sm', 'sb', 'bg', 'dst', 'megabytes',\n",
        "       'lyr', 'zilog', 'tb', 'mjd', 'kilobytes', 'cj', 'powerplant', 'kib',\n",
        "       'mj', 'kelvins', 'cx', 'octets', 'gbit', 'cmi', 'fx', 'iia', 'sio',\n",
        "       'lg', 'eps', 'gd', 'msm', 'kv', 'eui', 'kilo', 'bm', 'qa',\n",
        "       'vantage', 'qd', 'cgpm', 'cru', 'pv', 'pk', 'rj', 'gau',\n",
        "       'centimetre', 'yyyy', 'quadra', 'yb', 'mjt', 'xc', 'mech', 'glock',\n",
        "       'milliseconds', 'stm', 'qe', 'repeater', 'cfc', 'xxxx', 'giga',\n",
        "       'gts', 'remington', 'incl', 'kev', 'tms', 'aft', 'skyview', 'mjf',\n",
        "       'mpg', 'joules', 'messagepad', 'newtons', 'micrometre', 'fsb',\n",
        "       'mmol', 'aryabhata', 'jeho', 'petn', 'gbu', 'omim', 'tf', 'qf',\n",
        "       'bw', 'csd', 'aardvarks', 'stratofortress', 'myrinet', 'tdi', 'ean',\n",
        "       'mpc', 'microseconds', 'wp', 'upto', 'voigt', 'candela', 'bauds',\n",
        "       'mmix', 'tj', 'ldapv', 'astm', 'cir', 'millimetre', 'isbns', 'cae',\n",
        "       'cyp', 'kd', 'gbase', 'maule', 'vg', 'oa', 'malvales', 'lx',\n",
        "       'hispano', 'bofors', 'fadh', 'endo', 'bst', 'yy', 'ddo',\n",
        "       'hiddenstructure', 'hatchback', 'dba', 'superjanet', 'yf', 'hazy',\n",
        "       'tert', 'qam', 'jtc', 'temp', 'cil', 'turboprops', 'kilowatt',\n",
        "       'thousandth', 'pwn', 'qh', 'fulltext', 'mauna', 'erg', 'saa',\n",
        "       'thinkpad', 'gunship', 'obsoletes', 'kilobit', 'haemoglobin',\n",
        "       'membered', 'megabits', 'sextans', 'alh', 'meo', 'qxd',\n",
        "       'kilocalories', 'uw', 'osr', 'nevado', 'gigahertz', 'wd',\n",
        "       'cryptologia', 'greenman', 'simms', 'afx', 'lith', 'combi', 'kurz',\n",
        "       'chondrite', 'dso', 'triode', 'kab', 'sixes', 'gottfredson', 'pts',\n",
        "       'huf', 'exo', 'centris', 'gpa', 'pascals', 'pec', 'stfm', 'pix',\n",
        "       'apq', 'awg', 'msk', 'leftarm', 'afips', 'coulombs', 'mbps', 'iab',\n",
        "       'pw', 'lmp', 'reu', 'jfduke', 'lhs', 'nv', 'midsize', 'xdsl',\n",
        "       'quintillion', 'meshes', 'arae', 'msrp', 'riccati', 'dsph', 'yg',\n",
        "       'addr', 'foreach', 'warhawk', 'researchcyc', 'rxd', 'alq',\n",
        "       'sturmgewehr', 'glr', 'cxd', 'maiman', 'avoirdupois', 'kbyte',\n",
        "       'vympel', 'ugc', 'luf', 'paveway', 'sempron', 'cellspacing',\n",
        "       'gliese', 'dbs', 'sakae', 'saf', 'apev', 'benelli', 'mfg', 'hno',\n",
        "       'whitlock', 'ultrasparc', 'eurocrypt', 'pata', 'scalemajor',\n",
        "       'timeaxis', 'pdl', 'signetics', 'thorton', 'vcore', 'excl', 'rol',\n",
        "       'pegasi', 'interlace', 'gouraud', 'xg', 'pitfall', 'footer', 'ql',\n",
        "       'xd', 'tabu', 'teslas', 'breaths', 'vermes', 'grs', 'shp', 'alr',\n",
        "       'omr', 'dce', 'kilobits', 'etherboot', 'wgs', 'nxd', 'kuf', 'xaa',\n",
        "       'sbd', 'gsc', 'jx', 'ppb', 'pinnate', 'quarts', 'cellpadding',\n",
        "       'pentode', 'mulliner', 'kmd', 'filesize', 'ppmv', 'hunebed', 'slc',\n",
        "       'iyengar', 'scaleminor', 'chaddr', 'aks', 'alkylated', 'gri',\n",
        "       'longm', 'latns', 'lyrae', 'triangulum', 'bushel', 'baggini',\n",
        "       'ipsos', 'efam'], dtype=object)"
       ]
      }
     ],
     "prompt_number": 14
    },
    {
     "cell_type": "code",
     "collapsed": false,
     "input": [],
     "language": "python",
     "metadata": {},
     "outputs": []
    }
   ],
   "metadata": {}
  }
 ]
}