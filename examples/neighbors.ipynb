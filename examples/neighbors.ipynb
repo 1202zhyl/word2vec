{
 "metadata": {
  "name": ""
 },
 "nbformat": 3,
 "nbformat_minor": 0,
 "worksheets": [
  {
   "cells": [
    {
     "cell_type": "code",
     "collapsed": false,
     "input": [
      "import numpy as np"
     ],
     "language": "python",
     "metadata": {},
     "outputs": [],
     "prompt_number": 39
    },
    {
     "cell_type": "code",
     "collapsed": false,
     "input": [
      "from vectors import WordVectors"
     ],
     "language": "python",
     "metadata": {},
     "outputs": [],
     "prompt_number": 1
    },
    {
     "cell_type": "code",
     "collapsed": false,
     "input": [
      "wv = WordVectors('text8-vec.txt')"
     ],
     "language": "python",
     "metadata": {},
     "outputs": [],
     "prompt_number": 2
    },
    {
     "cell_type": "code",
     "collapsed": false,
     "input": [
      "from scipy.spatial.distance import cosine"
     ],
     "language": "python",
     "metadata": {},
     "outputs": [],
     "prompt_number": 10
    },
    {
     "cell_type": "code",
     "collapsed": false,
     "input": [
      "class TopOrderedDict(object):\n",
      "    \n",
      "    def __init__(self, size, distances=None, values=None, init_dist=1e6):\n",
      "        self.size = size\n",
      "        if distances is not None:\n",
      "            self.distances = distances\n",
      "            self.values = values\n",
      "        else:\n",
      "            self.distances = [init_dist for i in range(size)]\n",
      "            self.values = [None for i in range(size)]\n",
      "    \n",
      "    def insert(self, n_dist, n_value):\n",
      "        if n_dist < max(self.distances):\n",
      "            if n_dist < min(self.distances):\n",
      "                self.distances.insert(0, n_dist)\n",
      "                self.distances = self.distances[:self.size]\n",
      "                self.values.insert(0, n_value)\n",
      "                self.values = self.values[:self.size]\n",
      "            else:\n",
      "                for i, dist_1 in enumerate(reversed(self.distances[:-1])):\n",
      "                    dist_2 = self.distances[self.size - i - 1]\n",
      "                    if n_dist < dist_2 and n_dist > dist_1:\n",
      "                        self.distances.insert(self.size - i - 1, n_dist)\n",
      "                        self.distances = self.distances[:self.size]\n",
      "                        self.values.insert(self.size - i - 1, n_value)\n",
      "                        self.values = self.values[:self.size]\n",
      "                        break"
     ],
     "language": "python",
     "metadata": {},
     "outputs": [],
     "prompt_number": 197
    },
    {
     "cell_type": "code",
     "collapsed": false,
     "input": [
      "def neighbors(target, n=10):\n",
      "    word_ix = np.where(wv.words == target)[0]\n",
      "    ol = TopOrderedDict(n)\n",
      "    for word, vector in zip(wv.words, wv.vectors[:]):\n",
      "        if word != target:\n",
      "            dist = cosine(wv.vectors[word_ix, :], vector)\n",
      "            ol.insert(dist, word)\n",
      "    return ol"
     ],
     "language": "python",
     "metadata": {},
     "outputs": [],
     "prompt_number": 206
    },
    {
     "cell_type": "code",
     "collapsed": false,
     "input": [
      "ol = neighbors('boys', 15)"
     ],
     "language": "python",
     "metadata": {},
     "outputs": [],
     "prompt_number": 213
    },
    {
     "cell_type": "code",
     "collapsed": false,
     "input": [
      "ol.distances, ol.values"
     ],
     "language": "python",
     "metadata": {},
     "outputs": [
      {
       "metadata": {},
       "output_type": "pyout",
       "prompt_number": 214,
       "text": [
        "([0.294809919426404,\n",
        "  0.35989221007277572,\n",
        "  0.41209253110932942,\n",
        "  0.42822837437575956,\n",
        "  0.42939159936254112,\n",
        "  0.45262399695127131,\n",
        "  0.46176556998981722,\n",
        "  0.4618399437071159,\n",
        "  0.46340387084973578,\n",
        "  0.47382034911940596,\n",
        "  0.4771573380711801,\n",
        "  0.48119240240091188,\n",
        "  0.4812475033397382,\n",
        "  0.4845005617307967,\n",
        "  0.48843071265776639],\n",
        " ['beastie',\n",
        "  'girls',\n",
        "  'beach',\n",
        "  'girl',\n",
        "  'band',\n",
        "  'garage',\n",
        "  'iggy',\n",
        "  'gypsy',\n",
        "  'concerts',\n",
        "  'roxy',\n",
        "  'performances',\n",
        "  'teen',\n",
        "  'kids',\n",
        "  'honky',\n",
        "  'orphanage'])"
       ]
      }
     ],
     "prompt_number": 214
    },
    {
     "cell_type": "heading",
     "level": 4,
     "metadata": {},
     "source": [
      "TopOrderedDict Tests"
     ]
    },
    {
     "cell_type": "code",
     "collapsed": false,
     "input": [
      "ol = TopOrderedDict(10, distances=range(10), values=range(10))"
     ],
     "language": "python",
     "metadata": {},
     "outputs": [],
     "prompt_number": 187
    },
    {
     "cell_type": "code",
     "collapsed": false,
     "input": [
      "ol.distances, ol.values"
     ],
     "language": "python",
     "metadata": {},
     "outputs": [
      {
       "metadata": {},
       "output_type": "pyout",
       "prompt_number": 188,
       "text": [
        "([0, 1, 2, 3, 4, 5, 6, 7, 8, 9], [0, 1, 2, 3, 4, 5, 6, 7, 8, 9])"
       ]
      }
     ],
     "prompt_number": 188
    },
    {
     "cell_type": "code",
     "collapsed": false,
     "input": [
      "ol.insert(-1, 'z')"
     ],
     "language": "python",
     "metadata": {},
     "outputs": [],
     "prompt_number": 189
    },
    {
     "cell_type": "code",
     "collapsed": false,
     "input": [
      "ol.distances, ol.values"
     ],
     "language": "python",
     "metadata": {},
     "outputs": [
      {
       "metadata": {},
       "output_type": "pyout",
       "prompt_number": 190,
       "text": [
        "([-1, 0, 1, 2, 3, 4, 5, 6, 7, 8], ['z', 0, 1, 2, 3, 4, 5, 6, 7, 8])"
       ]
      }
     ],
     "prompt_number": 190
    },
    {
     "cell_type": "code",
     "collapsed": false,
     "input": [
      "ol.insert(6.5, 'a')"
     ],
     "language": "python",
     "metadata": {},
     "outputs": [],
     "prompt_number": 191
    },
    {
     "cell_type": "code",
     "collapsed": false,
     "input": [
      "ol.distances, ol.values"
     ],
     "language": "python",
     "metadata": {},
     "outputs": [
      {
       "metadata": {},
       "output_type": "pyout",
       "prompt_number": 192,
       "text": [
        "([-1, 0, 1, 2, 3, 4, 5, 6, 6.5, 7], ['z', 0, 1, 2, 3, 4, 5, 6, 'a', 7])"
       ]
      }
     ],
     "prompt_number": 192
    },
    {
     "cell_type": "code",
     "collapsed": false,
     "input": [
      "ol.insert(1.5, 'b')"
     ],
     "language": "python",
     "metadata": {},
     "outputs": [],
     "prompt_number": 193
    },
    {
     "cell_type": "code",
     "collapsed": false,
     "input": [
      "ol.distances, ol.values"
     ],
     "language": "python",
     "metadata": {},
     "outputs": [
      {
       "metadata": {},
       "output_type": "pyout",
       "prompt_number": 194,
       "text": [
        "([-1, 0, 1, 1.5, 2, 3, 4, 5, 6, 6.5], ['z', 0, 1, 'b', 2, 3, 4, 5, 6, 'a'])"
       ]
      }
     ],
     "prompt_number": 194
    },
    {
     "cell_type": "code",
     "collapsed": false,
     "input": [],
     "language": "python",
     "metadata": {},
     "outputs": []
    }
   ],
   "metadata": {}
  }
 ]
}