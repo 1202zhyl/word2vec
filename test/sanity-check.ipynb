{
 "metadata": {
  "name": ""
 },
 "nbformat": 3,
 "nbformat_minor": 0,
 "worksheets": [
  {
   "cells": [
    {
     "cell_type": "code",
     "collapsed": false,
     "input": [
      "import word2vec\n",
      "import numpy as np"
     ],
     "language": "python",
     "metadata": {},
     "outputs": [],
     "prompt_number": 1
    },
    {
     "cell_type": "code",
     "collapsed": false,
     "input": [
      "model = word2vec.load('data/text8-300.bin', saveMemory=False)"
     ],
     "language": "python",
     "metadata": {},
     "outputs": [],
     "prompt_number": 2
    },
    {
     "cell_type": "code",
     "collapsed": false,
     "input": [
      "model.cosine('black')"
     ],
     "language": "python",
     "metadata": {},
     "outputs": [
      {
       "metadata": {},
       "output_type": "pyout",
       "prompt_number": 3,
       "text": [
        "[('white', 0.61359944339518946),\n",
        " ('blue', 0.54669094343585667),\n",
        " ('yellow', 0.53776795071385508),\n",
        " ('red', 0.50668722313612802),\n",
        " ('stripes', 0.4869967226869798),\n",
        " ('guelfs', 0.48421467188647127),\n",
        " ('pink', 0.48401272773285919),\n",
        " ('collar', 0.47403448235621359),\n",
        " ('grey', 0.45323224717884103),\n",
        " ('tans', 0.44606697582666777)]"
       ]
      }
     ],
     "prompt_number": 3
    },
    {
     "cell_type": "code",
     "collapsed": false,
     "input": [
      "len(model.cosine('black', n=19))"
     ],
     "language": "python",
     "metadata": {},
     "outputs": [
      {
       "metadata": {},
       "output_type": "pyout",
       "prompt_number": 4,
       "text": [
        "19"
       ]
      }
     ],
     "prompt_number": 4
    },
    {
     "cell_type": "code",
     "collapsed": false,
     "input": [
      "model._cosine('black')"
     ],
     "language": "python",
     "metadata": {},
     "outputs": [
      {
       "metadata": {},
       "output_type": "pyout",
       "prompt_number": 5,
       "text": [
        "[('white', 0.38640055660480987),\n",
        " ('blue', 0.45330905656414311),\n",
        " ('yellow', 0.4622320492861447),\n",
        " ('red', 0.49331277686387165),\n",
        " ('stripes', 0.51300327731301998),\n",
        " ('guelfs', 0.5157853281135284),\n",
        " ('pink', 0.51598727226714036),\n",
        " ('collar', 0.52596551764378607),\n",
        " ('grey', 0.54676775282115886),\n",
        " ('tans', 0.55393302417333179)]"
       ]
      }
     ],
     "prompt_number": 5
    },
    {
     "cell_type": "code",
     "collapsed": false,
     "input": [
      "len(model._cosine('black', n=25))"
     ],
     "language": "python",
     "metadata": {},
     "outputs": [
      {
       "metadata": {},
       "output_type": "pyout",
       "prompt_number": 6,
       "text": [
        "25"
       ]
      }
     ],
     "prompt_number": 6
    },
    {
     "cell_type": "code",
     "collapsed": false,
     "input": [
      "model.analogy(pos=['woman', 'king'], neg=['man'])"
     ],
     "language": "python",
     "metadata": {},
     "outputs": [
      {
       "metadata": {},
       "output_type": "pyout",
       "prompt_number": 7,
       "text": [
        "[('queen', 0.20903760360363538),\n",
        " ('jadwiga', 0.19704089375697592),\n",
        " ('eldest', 0.19590311026132434),\n",
        " ('iii', 0.19160283358019314),\n",
        " ('iv', 0.19144450923385309),\n",
        " ('moshoeshoe', 0.18931357287710138),\n",
        " ('ruler', 0.18673045850813377),\n",
        " ('illegitimate', 0.18563518094157008),\n",
        " ('heir', 0.18515413515380746),\n",
        " ('wladislaus', 0.18272066006792448)]"
       ]
      }
     ],
     "prompt_number": 7
    },
    {
     "cell_type": "code",
     "collapsed": false,
     "input": [
      "len(model.analogy(pos=['woman', 'king'], neg=['man'], n=15))"
     ],
     "language": "python",
     "metadata": {},
     "outputs": [
      {
       "metadata": {},
       "output_type": "pyout",
       "prompt_number": 8,
       "text": [
        "15"
       ]
      }
     ],
     "prompt_number": 8
    },
    {
     "cell_type": "code",
     "collapsed": false,
     "input": [],
     "language": "python",
     "metadata": {},
     "outputs": []
    }
   ],
   "metadata": {}
  }
 ]
}