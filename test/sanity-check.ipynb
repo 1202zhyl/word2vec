{
 "metadata": {
  "name": ""
 },
 "nbformat": 3,
 "nbformat_minor": 0,
 "worksheets": [
  {
   "cells": [
    {
     "cell_type": "code",
     "collapsed": false,
     "input": [
      "import word2vec\n",
      "import numpy as np"
     ],
     "language": "python",
     "metadata": {},
     "outputs": [],
     "prompt_number": 1
    },
    {
     "cell_type": "code",
     "collapsed": false,
     "input": [
      "from word2vec.utils import unitvec"
     ],
     "language": "python",
     "metadata": {},
     "outputs": [],
     "prompt_number": 2
    },
    {
     "cell_type": "code",
     "collapsed": false,
     "input": [
      "model = word2vec.load('data/text8-300.bin')"
     ],
     "language": "python",
     "metadata": {},
     "outputs": [],
     "prompt_number": 3
    },
    {
     "cell_type": "code",
     "collapsed": false,
     "input": [
      "model.cosine('black')"
     ],
     "language": "python",
     "metadata": {},
     "outputs": [
      {
       "metadata": {},
       "output_type": "pyout",
       "prompt_number": 4,
       "text": [
        "[('white', 0.61359944339518946),\n",
        " ('blue', 0.54669094343585667),\n",
        " ('yellow', 0.53776795071385508),\n",
        " ('red', 0.50668722313612802),\n",
        " ('stripes', 0.4869967226869798),\n",
        " ('guelfs', 0.48421467188647127),\n",
        " ('pink', 0.48401272773285919),\n",
        " ('collar', 0.47403448235621359),\n",
        " ('grey', 0.45323224717884103),\n",
        " ('tans', 0.44606697582666777)]"
       ]
      }
     ],
     "prompt_number": 4
    },
    {
     "cell_type": "code",
     "collapsed": false,
     "input": [
      "len(model.cosine('black', n=19))"
     ],
     "language": "python",
     "metadata": {},
     "outputs": [
      {
       "metadata": {},
       "output_type": "pyout",
       "prompt_number": 12,
       "text": [
        "19"
       ]
      }
     ],
     "prompt_number": 12
    },
    {
     "cell_type": "code",
     "collapsed": false,
     "input": [
      "model._cosine('black')"
     ],
     "language": "python",
     "metadata": {},
     "outputs": [
      {
       "metadata": {},
       "output_type": "pyout",
       "prompt_number": 6,
       "text": [
        "[('white', 0.38640055660480976),\n",
        " ('blue', 0.453309056564143),\n",
        " ('yellow', 0.46223204928614459),\n",
        " ('red', 0.49331277686387154),\n",
        " ('stripes', 0.51300327731301998),\n",
        " ('guelfs', 0.5157853281135284),\n",
        " ('pink', 0.51598727226714036),\n",
        " ('collar', 0.52596551764378585),\n",
        " ('grey', 0.54676775282115864),\n",
        " ('tans', 0.55393302417333179)]"
       ]
      }
     ],
     "prompt_number": 6
    },
    {
     "cell_type": "code",
     "collapsed": false,
     "input": [
      "len(model._cosine('black', n=25))"
     ],
     "language": "python",
     "metadata": {},
     "outputs": [
      {
       "metadata": {},
       "output_type": "pyout",
       "prompt_number": 13,
       "text": [
        "25"
       ]
      }
     ],
     "prompt_number": 13
    },
    {
     "cell_type": "code",
     "collapsed": false,
     "input": [
      "model.analogy(pos=['woman', 'king'], neg=['man'])"
     ],
     "language": "python",
     "metadata": {},
     "outputs": [
      {
       "metadata": {},
       "output_type": "pyout",
       "prompt_number": 8,
       "text": [
        "[('queen', 0.20903760360363538),\n",
        " ('jadwiga', 0.19704089375697589),\n",
        " ('eldest', 0.19590311026132429),\n",
        " ('iii', 0.1916028335801932),\n",
        " ('iv', 0.19144450923385309),\n",
        " ('moshoeshoe', 0.1893135728771014),\n",
        " ('ruler', 0.1867304585081338),\n",
        " ('illegitimate', 0.18563518094157008),\n",
        " ('heir', 0.18515413515380746),\n",
        " ('wladislaus', 0.18272066006792451)]"
       ]
      }
     ],
     "prompt_number": 8
    },
    {
     "cell_type": "code",
     "collapsed": false,
     "input": [
      "len(model.analogy(pos=['woman', 'king'], neg=['man'], n=15))"
     ],
     "language": "python",
     "metadata": {},
     "outputs": [
      {
       "metadata": {},
       "output_type": "pyout",
       "prompt_number": 10,
       "text": [
        "15"
       ]
      }
     ],
     "prompt_number": 10
    },
    {
     "cell_type": "code",
     "collapsed": false,
     "input": [],
     "language": "python",
     "metadata": {},
     "outputs": []
    }
   ],
   "metadata": {}
  }
 ]
}