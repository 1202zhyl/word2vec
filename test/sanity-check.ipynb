{
 "metadata": {
  "name": ""
 },
 "nbformat": 3,
 "nbformat_minor": 0,
 "worksheets": [
  {
   "cells": [
    {
     "cell_type": "code",
     "collapsed": false,
     "input": [
      "import word2vec\n",
      "import numpy as np"
     ],
     "language": "python",
     "metadata": {},
     "outputs": [],
     "prompt_number": 1
    },
    {
     "cell_type": "code",
     "collapsed": false,
     "input": [
      "from word2vec.utils import unitvec"
     ],
     "language": "python",
     "metadata": {},
     "outputs": [],
     "prompt_number": 2
    },
    {
     "cell_type": "code",
     "collapsed": false,
     "input": [
      "model = word2vec.load('data/text8-300.bin')"
     ],
     "language": "python",
     "metadata": {},
     "outputs": [],
     "prompt_number": 3
    },
    {
     "cell_type": "code",
     "collapsed": false,
     "input": [
      "model.cosine('shoes')"
     ],
     "language": "python",
     "metadata": {},
     "outputs": [
      {
       "metadata": {},
       "output_type": "pyout",
       "prompt_number": 11,
       "text": [
        "[('hats', 0.40605204582822041),\n",
        " ('boots', 0.41456842782031178),\n",
        " ('gloves', 0.4333370451769798),\n",
        " ('wear', 0.43752004994445093),\n",
        " ('pants', 0.44121123686537267),\n",
        " ('noses', 0.44162821086155069),\n",
        " ('padded', 0.44588322611992337),\n",
        " ('dresses', 0.44780011955016552),\n",
        " ('trousers', 0.4505727607365495)]"
       ]
      }
     ],
     "prompt_number": 11
    },
    {
     "cell_type": "code",
     "collapsed": false,
     "input": [
      "model.cosine2('shoes')"
     ],
     "language": "python",
     "metadata": {},
     "outputs": [
      {
       "metadata": {},
       "output_type": "pyout",
       "prompt_number": 12,
       "text": [
        "[('hats', 0.40605204582821997),\n",
        " ('boots', 0.41456842782031134),\n",
        " ('gloves', 0.43333704517697946),\n",
        " ('wear', 0.43752004994445037),\n",
        " ('pants', 0.44121123686537245),\n",
        " ('noses', 0.44162821086155024),\n",
        " ('padded', 0.44588322611992315),\n",
        " ('dresses', 0.44780011955016485),\n",
        " ('trousers', 0.45057276073654917),\n",
        " ('clothing', 0.45923434707045241)]"
       ]
      }
     ],
     "prompt_number": 12
    },
    {
     "cell_type": "code",
     "collapsed": false,
     "input": [
      "model.analogy('man', 'woman', 'king')"
     ],
     "language": "python",
     "metadata": {},
     "outputs": [
      {
       "metadata": {},
       "output_type": "pyout",
       "prompt_number": 7,
       "text": [
        "[('queen', 0.20903760360363538),\n",
        " ('jadwiga', 0.19704089375697589),\n",
        " ('eldest', 0.19590311026132429),\n",
        " ('iii', 0.1916028335801932),\n",
        " ('iv', 0.19144450923385309),\n",
        " ('moshoeshoe', 0.1893135728771014),\n",
        " ('ruler', 0.1867304585081338),\n",
        " ('illegitimate', 0.18563518094157008),\n",
        " ('heir', 0.18515413515380746),\n",
        " ('wladislaus', 0.18272066006792451),\n",
        " ('daughter', 0.18096308531487135)]"
       ]
      }
     ],
     "prompt_number": 7
    },
    {
     "cell_type": "code",
     "collapsed": false,
     "input": [
      "model.most_similar(pos=['woman', 'king'], neg=['man'])"
     ],
     "language": "python",
     "metadata": {},
     "outputs": [
      {
       "metadata": {},
       "output_type": "pyout",
       "prompt_number": 9,
       "text": [
        "[('queen', 0.20903760360363538),\n",
        " ('jadwiga', 0.19704089375697589),\n",
        " ('eldest', 0.19590311026132429),\n",
        " ('iii', 0.1916028335801932),\n",
        " ('iv', 0.19144450923385309),\n",
        " ('moshoeshoe', 0.1893135728771014),\n",
        " ('ruler', 0.1867304585081338),\n",
        " ('illegitimate', 0.18563518094157008),\n",
        " ('heir', 0.18515413515380746),\n",
        " ('wladislaus', 0.18272066006792451),\n",
        " ('daughter', 0.18096308531487135)]"
       ]
      }
     ],
     "prompt_number": 9
    },
    {
     "cell_type": "code",
     "collapsed": false,
     "input": [],
     "language": "python",
     "metadata": {},
     "outputs": []
    }
   ],
   "metadata": {}
  }
 ]
}